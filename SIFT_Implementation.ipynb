{
  "cells": [
    {
      "cell_type": "markdown",
      "metadata": {},
      "source": [
        "# Install dependencies"
      ]
    },
    {
      "cell_type": "code",
      "execution_count": null,
      "metadata": {
        "colab": {
          "base_uri": "https://localhost:8080/"
        },
        "id": "-FY0sgDi0jQw",
        "outputId": "73ab6af8-e3bf-4495-fa8f-8eacb9763189"
      },
      "outputs": [
        {
          "name": "stdout",
          "output_type": "stream",
          "text": [
            "Collecting opencv-python-headless\n",
            "  Downloading opencv_python_headless-4.5.4.58-cp37-cp37m-manylinux2014_x86_64.whl (47.6 MB)\n",
            "\u001b[K     |████████████████████████████████| 47.6 MB 35 kB/s \n",
            "\u001b[?25hRequirement already satisfied: numpy>=1.14.5 in /usr/local/lib/python3.7/dist-packages (from opencv-python-headless) (1.19.5)\n",
            "Installing collected packages: opencv-python-headless\n",
            "Successfully installed opencv-python-headless-4.5.4.58\n",
            "Collecting opencv-python==3.4.2.17\n",
            "  Downloading opencv_python-3.4.2.17-cp37-cp37m-manylinux1_x86_64.whl (25.0 MB)\n",
            "\u001b[K     |████████████████████████████████| 25.0 MB 109 kB/s \n",
            "\u001b[?25hRequirement already satisfied: numpy>=1.14.5 in /usr/local/lib/python3.7/dist-packages (from opencv-python==3.4.2.17) (1.19.5)\n",
            "Installing collected packages: opencv-python\n",
            "  Attempting uninstall: opencv-python\n",
            "    Found existing installation: opencv-python 4.1.2.30\n",
            "    Uninstalling opencv-python-4.1.2.30:\n",
            "      Successfully uninstalled opencv-python-4.1.2.30\n",
            "\u001b[31mERROR: pip's dependency resolver does not currently take into account all the packages that are installed. This behaviour is the source of the following dependency conflicts.\n",
            "albumentations 0.1.12 requires imgaug<0.2.7,>=0.2.5, but you have imgaug 0.2.9 which is incompatible.\u001b[0m\n",
            "Successfully installed opencv-python-3.4.2.17\n",
            "Collecting opencv-contrib-python==3.4.2.17\n",
            "  Downloading opencv_contrib_python-3.4.2.17-cp37-cp37m-manylinux1_x86_64.whl (30.6 MB)\n",
            "\u001b[K     |████████████████████████████████| 30.6 MB 27 kB/s \n",
            "\u001b[?25hRequirement already satisfied: numpy>=1.14.5 in /usr/local/lib/python3.7/dist-packages (from opencv-contrib-python==3.4.2.17) (1.19.5)\n",
            "Installing collected packages: opencv-contrib-python\n",
            "  Attempting uninstall: opencv-contrib-python\n",
            "    Found existing installation: opencv-contrib-python 4.1.2.30\n",
            "    Uninstalling opencv-contrib-python-4.1.2.30:\n",
            "      Successfully uninstalled opencv-contrib-python-4.1.2.30\n",
            "Successfully installed opencv-contrib-python-3.4.2.17\n"
          ]
        }
      ],
      "source": [
        "!pip install opencv-python-headless\n",
        "!pip install opencv-python==3.4.2.17\n",
        "!pip install opencv-contrib-python==3.4.2.17"
      ]
    },
    {
      "cell_type": "code",
      "execution_count": null,
      "metadata": {
        "colab": {
          "base_uri": "https://localhost:8080/"
        },
        "id": "r-drJNQo15oG",
        "outputId": "24ff3719-9856-489a-9834-a965ddb3cfe1"
      },
      "outputs": [
        {
          "name": "stdout",
          "output_type": "stream",
          "text": [
            "Found existing installation: opencv-python 4.1.2.30\n",
            "Uninstalling opencv-python-4.1.2.30:\n",
            "  Would remove:\n",
            "    /usr/local/lib/python3.7/dist-packages/cv2/*\n",
            "    /usr/local/lib/python3.7/dist-packages/opencv_python-4.1.2.30.dist-info/*\n",
            "  Would not remove (might be manually added):\n",
            "    /usr/local/lib/python3.7/dist-packages/cv2/config-3.7.py\n",
            "    /usr/local/lib/python3.7/dist-packages/cv2/config.py\n",
            "    /usr/local/lib/python3.7/dist-packages/cv2/gapi/__init__.py\n",
            "    /usr/local/lib/python3.7/dist-packages/cv2/load_config_py2.py\n",
            "    /usr/local/lib/python3.7/dist-packages/cv2/load_config_py3.py\n",
            "    /usr/local/lib/python3.7/dist-packages/cv2/mat_wrapper/__init__.py\n",
            "    /usr/local/lib/python3.7/dist-packages/cv2/misc/__init__.py\n",
            "    /usr/local/lib/python3.7/dist-packages/cv2/misc/version.py\n",
            "    /usr/local/lib/python3.7/dist-packages/cv2/utils/__init__.py\n",
            "    /usr/local/lib/python3.7/dist-packages/cv2/version.py\n",
            "Proceed (y/n)? y\n",
            "  Successfully uninstalled opencv-python-4.1.2.30\n",
            "Found existing installation: opencv-contrib-python 4.1.2.30\n",
            "Uninstalling opencv-contrib-python-4.1.2.30:\n",
            "  Would remove:\n",
            "    /usr/local/lib/python3.7/dist-packages/opencv_contrib_python-4.1.2.30.dist-info/*\n",
            "Proceed (y/n)? y\n",
            "  Successfully uninstalled opencv-contrib-python-4.1.2.30\n"
          ]
        }
      ],
      "source": [
        "!pip uninstall opencv-python\n",
        "!pip uninstall opencv-contrib-python"
      ]
    },
    {
      "cell_type": "markdown",
      "metadata": {},
      "source": [
        "# Import lib"
      ]
    },
    {
      "cell_type": "code",
      "execution_count": null,
      "metadata": {
        "id": "IQozPQxjzXk-"
      },
      "outputs": [],
      "source": [
        "import cv2\n",
        "import numpy as np\n",
        "from google.colab.patches import cv2_imshow"
      ]
    },
    {
      "cell_type": "markdown",
      "metadata": {},
      "source": [
        "# SIFT Implementation"
      ]
    },
    {
      "cell_type": "code",
      "execution_count": null,
      "metadata": {
        "id": "7MmpI25_0APm"
      },
      "outputs": [],
      "source": [
        "img = cv2.imread('cubes.jpg')\n",
        "gray= cv2.cvtColor(img,cv2.COLOR_BGR2GRAY)"
      ]
    },
    {
      "cell_type": "code",
      "execution_count": null,
      "metadata": {
        "id": "Nt_TUqay0MRC"
      },
      "outputs": [],
      "source": [
        "sift = cv2.xfeatures2d.SIFT_create()\n",
        "kp = sift.detect(gray,None)"
      ]
    },
    {
      "cell_type": "code",
      "execution_count": null,
      "metadata": {
        "colab": {
          "base_uri": "https://localhost:8080/"
        },
        "id": "js91-X_d2s4s",
        "outputId": "ce0098b0-333f-4fec-8f96-5a22cd912591"
      },
      "outputs": [
        {
          "data": {
            "text/plain": [
              "True"
            ]
          },
          "execution_count": 6,
          "metadata": {},
          "output_type": "execute_result"
        }
      ],
      "source": [
        "image = cv2.drawKeypoints(gray, kp, outImage=img, flags=cv2.DRAW_MATCHES_FLAGS_DRAW_RICH_KEYPOINTS)\n",
        "cv2.imwrite('sift_keypoints.jpg',img)"
      ]
    },
    {
      "cell_type": "code",
      "execution_count": null,
      "metadata": {
        "id": "umATAxPw4ZTw"
      },
      "outputs": [],
      "source": [
        "kp, des = sift.detectAndCompute(gray,None)"
      ]
    },
    {
      "cell_type": "code",
      "execution_count": null,
      "metadata": {
        "colab": {
          "base_uri": "https://localhost:8080/"
        },
        "id": "ts88p-1X4n1s",
        "outputId": "fd84ca62-3ec1-4235-843e-469c64e5ac55"
      },
      "outputs": [
        {
          "name": "stdout",
          "output_type": "stream",
          "text": [
            "Cloning into 'Image-Classification-using-SIFT'...\n",
            "remote: Enumerating objects: 13, done.\u001b[K\n",
            "remote: Counting objects: 100% (13/13), done.\u001b[K\n",
            "remote: Compressing objects: 100% (13/13), done.\u001b[K\n",
            "remote: Total 13 (delta 2), reused 0 (delta 0), pack-reused 0\u001b[K\n",
            "Unpacking objects: 100% (13/13), done.\n"
          ]
        }
      ],
      "source": [
        "!git clone https://github.com/Akhilesh64/Image-Classification-using-SIFT"
      ]
    },
    {
      "cell_type": "code",
      "execution_count": null,
      "metadata": {
        "colab": {
          "base_uri": "https://localhost:8080/"
        },
        "id": "NuKUB-804p2P",
        "outputId": "a510d304-dbba-444c-a8a3-67d0dcdc86af"
      },
      "outputs": [
        {
          "name": "stdout",
          "output_type": "stream",
          "text": [
            "/content/Image-Classification-using-SIFT\n"
          ]
        }
      ],
      "source": [
        "%cd /content/Image-Classification-using-SIFT"
      ]
    },
    {
      "cell_type": "code",
      "execution_count": null,
      "metadata": {
        "colab": {
          "base_uri": "https://localhost:8080/"
        },
        "id": "hN2ZnFqv48IO",
        "outputId": "325741e6-c494-47f5-f55c-db34c45df02d"
      },
      "outputs": [
        {
          "name": "stdout",
          "output_type": "stream",
          "text": [
            "--2021-10-26 14:06:06--  https://github.com/myleott/mnist_png/raw/master/mnist_png.tar.gz\n",
            "Resolving github.com (github.com)... 140.82.114.4\n",
            "Connecting to github.com (github.com)|140.82.114.4|:443... connected.\n",
            "HTTP request sent, awaiting response... 302 Found\n",
            "Location: https://raw.githubusercontent.com/myleott/mnist_png/master/mnist_png.tar.gz [following]\n",
            "--2021-10-26 14:06:07--  https://raw.githubusercontent.com/myleott/mnist_png/master/mnist_png.tar.gz\n",
            "Resolving raw.githubusercontent.com (raw.githubusercontent.com)... 185.199.108.133, 185.199.109.133, 185.199.110.133, ...\n",
            "Connecting to raw.githubusercontent.com (raw.githubusercontent.com)|185.199.108.133|:443... connected.\n",
            "HTTP request sent, awaiting response... 200 OK\n",
            "Length: 15683414 (15M) [application/octet-stream]\n",
            "Saving to: ‘mnist_png.tar.gz’\n",
            "\n",
            "mnist_png.tar.gz    100%[===================>]  14.96M  --.-KB/s    in 0.1s    \n",
            "\n",
            "2021-10-26 14:06:07 (111 MB/s) - ‘mnist_png.tar.gz’ saved [15683414/15683414]\n",
            "\n"
          ]
        }
      ],
      "source": [
        "!wget https://github.com/myleott/mnist_png/raw/master/mnist_png.tar.gz"
      ]
    },
    {
      "cell_type": "code",
      "execution_count": null,
      "metadata": {
        "id": "uDYVQe5Q5KqQ"
      },
      "outputs": [],
      "source": [
        "!tar -xf mnist_png.tar.gz"
      ]
    },
    {
      "cell_type": "code",
      "execution_count": null,
      "metadata": {
        "colab": {
          "base_uri": "https://localhost:8080/"
        },
        "id": "uf5sFPMN44O3",
        "outputId": "a8775806-a616-42d8-c682-d95b4d571d0f"
      },
      "outputs": [
        {
          "name": "stdout",
          "output_type": "stream",
          "text": [
            "\n",
            "Calculating for a threshold of 5\n",
            "\n",
            "Accuracy = 70.30277185501066\n",
            "Time taken = 947.4690344333649 sec\n",
            "Confusion matrix :\n",
            "[[1001    4   21    6    1   33   46   16   57   13]\n",
            " [   3 1147   12    2   11    2    5   16    2    1]\n",
            " [  57    9  682   66   49   41   66  131   61   23]\n",
            " [  24    8   85  864   33   78   28   33   32    9]\n",
            " [   6    6   69   33  814   38   32   62   32   75]\n",
            " [  69    4   37   40   32  717   66   43   19   45]\n",
            " [  92   17   38   17   11   65  618   56   44  185]\n",
            " [  30   57  128   23   52   20   49  870   16    8]\n",
            " [  73    6   57   35   39   29   60    7  821   37]\n",
            " [  46    8   21   11   46   59  160   27   61  709]]\n",
            "\n",
            "Calculating for a threshold of 10\n",
            "\n",
            "Accuracy = 75.59061833688699\n",
            "Time taken = 1135.1768279075623 sec\n",
            "Confusion matrix :\n",
            "[[1045    9   16    6    1   25   43   21   16   16]\n",
            " [   1 1186   12    1   10    4    6   27    1    2]\n",
            " [  34    6  772   38   30   38   23  122   45   20]\n",
            " [  12    4   78  900   20  107   12   29   28   22]\n",
            " [   6   11   51   19  909   26   18   33   37   55]\n",
            " [  41   13   26   61   19  691   57   38   11   42]\n",
            " [  77   22   23   12   18   53  689   52   14  253]\n",
            " [  14   59  105   22   28   19   33  911   11    9]\n",
            " [  27   11   43   21   28   25   31   14  952   39]\n",
            " [  24    9   25   12   37   38  141   25   39  808]]\n",
            "\n",
            "Calculating for a threshold of 15\n",
            "\n",
            "Accuracy = 76.92963752665246\n",
            "Time taken = 1155.4354605674744 sec\n",
            "Confusion matrix :\n",
            "[[1037    1   15    5    1   21   54   17   10   10]\n",
            " [   3 1131   12    0   14    5    3   11    3    1]\n",
            " [  36    4  831   45   31   26   41  141   34   12]\n",
            " [  11    5   56  903    7  102   27   27   44   12]\n",
            " [   4    6   34   15  991   19   15   41   29   37]\n",
            " [  48    2   20   68   25  796   75   41   20   47]\n",
            " [  91   14   13    9    9   58  718   74   21  184]\n",
            " [  11   53   75   18   40   23   33  925    8    8]\n",
            " [  19    4   32   11   28   19   32   15  932   33]\n",
            " [  33    6   18    9   48   40  158   19   46  756]]\n",
            "\n",
            "Calculating for a threshold of 20\n",
            "\n",
            "Accuracy = 77.49253731343285\n",
            "Time taken = 1095.1183025836945 sec\n",
            "Confusion matrix :\n",
            "[[1116    3   12    1    0   22   44   23    7    9]\n",
            " [   1 1110   12    2   12    1    6   16    2    4]\n",
            " [  42    8  789   49   34   30   34  110   43   17]\n",
            " [   9    2   54  929    7  113   27   38   22   23]\n",
            " [   7   10   22    5  957   21   25   39   29   56]\n",
            " [  45    1   28   58   15  737   65   32   12   42]\n",
            " [  67   15   31   12   17   48  707   78   26  177]\n",
            " [  17   51   85   13   37   16   29  938    6   11]\n",
            " [  22    6   25   15   29   20   24    8  956   27]\n",
            " [  25    6   12   10   48   50  166   21   38  847]]\n",
            "\n",
            "Calculating for a threshold of 25\n",
            "\n",
            "Accuracy = 78.31982942430704\n",
            "Time taken = 1107.9466316699982 sec\n",
            "Confusion matrix :\n",
            "[[1056    2   11    3    1   19   45   12    9    9]\n",
            " [   2 1120    8    0    5    1   15   21    2    0]\n",
            " [  36    8  839   30   18   38   22  106   38   13]\n",
            " [  11    5   57  921   14   94   23   24   29   12]\n",
            " [   6   11   36   13  983   27   21   39   23   38]\n",
            " [  53    3   26   58   19  779   75   39   14   42]\n",
            " [  74   11   18    9    7   59  757   51   17  223]\n",
            " [  15   52   74   25   26   13   37  944   11   10]\n",
            " [  23    8   34   20   32    8   27   13  933   43]\n",
            " [  36    5   16   11   34   33  138   20   23  851]]\n"
          ]
        }
      ],
      "source": [
        "!python main.py"
      ]
    }
  ],
  "metadata": {
    "accelerator": "GPU",
    "colab": {
      "name": "IntroCV_SIFT",
      "provenance": []
    },
    "kernelspec": {
      "display_name": "Python 3",
      "name": "python3"
    },
    "language_info": {
      "name": "python"
    }
  },
  "nbformat": 4,
  "nbformat_minor": 0
}
